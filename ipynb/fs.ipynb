{
 "cells": [
  {
   "cell_type": "code",
   "execution_count": null,
   "metadata": {
    "dotnet_interactive": {
     "language": "fsharp"
    }
   },
   "outputs": [
    {
     "data": {
      "text/plain": "Installed package Plotly.NET version 2.0.0-preview.2"
     },
     "output_type": "unknown"
    },
    {
     "data": {
      "text/plain": "Installed package Plotly.NET.Interactive version 2.0.0-preview.2"
     },
     "output_type": "unknown"
    },
    {
     "data": {
      "text/markdown": "Loading extensions from `Plotly.NET.Interactive.dll`"
     },
     "output_type": "unknown"
    },
    {
     "data": {
      "text/markdown": "Added Kernel Extension including formatters for GenericChart"
     },
     "output_type": "unknown"
    }
   ],
   "source": [
    "#r \"nuget: Plotly.NET, 2.0.0-preview.2\"\n",
    "#r \"nuget: Plotly.NET.Interactive, 2.0.0-preview.2\""
   ]
  },
  {
   "cell_type": "code",
   "execution_count": null,
   "metadata": {
    "dotnet_interactive": {
     "language": "fsharp"
    }
   },
   "outputs": [],
   "source": [
    "open Plotly.NET\n",
    "let xData = [0 .. 10]\n",
    "let yData = [0 .. 10]\n",
    "let myFirstChart = Chart.Point(xData,yData)\n"
   ]
  },
  {
   "cell_type": "code",
   "execution_count": null,
   "metadata": {
    "dotnet_interactive": {
     "language": "fsharp"
    }
   },
   "outputs": [
    {
     "data": {
      "text/html": "<div id=\"80ecd5fc-f2a0-4636-9b43-cbda8a3078f0\" style=\"width: 600px; height: 600px;\"><!-- Plotly chart will be drawn inside this DIV --></div>\r\n<script type=\"text/javascript\">\r\n\n            var renderPlotly_80ecd5fcf2a046369b43cbda8a3078f0 = function() {\n            var fsharpPlotlyRequire = requirejs.config({context:'fsharp-plotly',paths:{plotly:'https://cdn.plot.ly/plotly-latest.min'}}) || require;\n            fsharpPlotlyRequire(['plotly'], function(Plotly) {\r\n\n            var data = [{\"type\":\"scatter\",\"x\":[0.0,1.0,2.0,3.0,4.0,5.0,6.0,7.0,8.0,9.0,10.0],\"y\":[0.0,1.0,2.0,3.0,4.0,5.0,6.0,7.0,8.0,9.0,10.0],\"mode\":\"markers\",\"marker\":{}}];\n            var layout = {};\n            var config = {};\n            Plotly.newPlot('80ecd5fc-f2a0-4636-9b43-cbda8a3078f0', data, layout, config);\r\n});\n            };\n            if ((typeof(requirejs) !==  typeof(Function)) || (typeof(requirejs.config) !== typeof(Function))) {\n                var script = document.createElement(\"script\");\n                script.setAttribute(\"src\", \"https://cdnjs.cloudflare.com/ajax/libs/require.js/2.3.6/require.min.js\");\n                script.onload = function(){\n                    renderPlotly_80ecd5fcf2a046369b43cbda8a3078f0();\n                };\n                document.getElementsByTagName(\"head\")[0].appendChild(script);\n            }\n            else {\n                renderPlotly_80ecd5fcf2a046369b43cbda8a3078f0();\n            }\r\n</script>\r\n"
     },
     "output_type": "unknown"
    }
   ],
   "source": [
    "myFirstChart"
   ]
  }
 ],
 "metadata": {
  "kernelspec": {
   "display_name": ".NET (C#)",
   "language": "C#",
   "name": ".net-csharp"
  },
  "language_info": {
   "file_extension": ".cs",
   "mimetype": "text/x-csharp",
   "name": "C#",
   "pygments_lexer": "csharp",
   "version": "9.0"
  },
  "orig_nbformat": 2
 },
 "nbformat": 4,
 "nbformat_minor": 2
}